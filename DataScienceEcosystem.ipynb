{
 "cells": [
  {
   "cell_type": "markdown",
   "id": "cc0dd289",
   "metadata": {},
   "source": [
    "# Data Science Tools and Ecosystem"
   ]
  },
  {
   "cell_type": "markdown",
   "id": "e7459a08",
   "metadata": {},
   "source": [
    "**In this Notebook, Data Science Tools and Ecosystems are Summerized**"
   ]
  },
  {
   "cell_type": "markdown",
   "id": "8e67a91b",
   "metadata": {},
   "source": [
    "**Objectives:**\n",
    "- List a few popular languages for Data Science.\n",
    "- Name a few common libraries Data Scientist use.\n",
    "- List common/popular open source tools Data Scientist use.\n",
    "- Displaying a few examples of Arithmetic expresions."
   ]
  },
  {
   "cell_type": "markdown",
   "id": "90214e52",
   "metadata": {},
   "source": [
    "Some of the popular languages Data Science use are:\n",
    "\n",
    "1. Python\n",
    "2. R\n",
    "3. SQL\n",
    "4. Java\n",
    "5. Julia\n",
    "6. Scala"
   ]
  },
  {
   "cell_type": "markdown",
   "id": "f4a316f5",
   "metadata": {},
   "source": [
    "Some of the common libraries used by Data Scientist includes:\n",
    "\n",
    "1. Numpy\n",
    "2. Matplotlib\n",
    "3. Pandas\n",
    "4. Plotly\n",
    "5. PostgresSQL\n"
   ]
  },
  {
   "cell_type": "markdown",
   "id": "e56917ac",
   "metadata": {},
   "source": [
    "|Data Science Tools|\n",
    "|------------------|\n",
    "|JupyterNotebooks/lab|\n",
    "|Rstudio|\n",
    "|ApacheZeplin|"
   ]
  },
  {
   "cell_type": "markdown",
   "id": "e182bc4b",
   "metadata": {},
   "source": [
    "### Below are a few examples of evaluating Arithmatic expresion using the programing language Python\n",
    "\n"
   ]
  },
  {
   "cell_type": "code",
   "execution_count": 4,
   "id": "84b03f89",
   "metadata": {},
   "outputs": [
    {
     "name": "stdout",
     "output_type": "stream",
     "text": [
      "17\n"
     ]
    }
   ],
   "source": [
    "#This is a simple arithmatic expresion that multiplys then adds the intergs\n",
    "print((3*4)+5)"
   ]
  },
  {
   "cell_type": "code",
   "execution_count": 5,
   "id": "e1a2cf00",
   "metadata": {},
   "outputs": [
    {
     "name": "stdout",
     "output_type": "stream",
     "text": [
      "200 minutes is equal to 3.3333333333333335 hours\n"
     ]
    }
   ],
   "source": [
    "#In this code cell we'll be converting 200 minutes to hours.\n",
    "Hours = 200 / 60\n",
    "print(\"200 minutes is equal to\", Hours, \"hours\")"
   ]
  },
  {
   "cell_type": "markdown",
   "id": "6be0f88a",
   "metadata": {},
   "source": [
    "## Author:\n",
    "Ruben Koopman"
   ]
  }
 ],
 "metadata": {
  "kernelspec": {
   "display_name": "Python 3",
   "language": "python",
   "name": "python3"
  },
  "language_info": {
   "codemirror_mode": {
    "name": "ipython",
    "version": 3
   },
   "file_extension": ".py",
   "mimetype": "text/x-python",
   "name": "python",
   "nbconvert_exporter": "python",
   "pygments_lexer": "ipython3",
   "version": "3.13.7"
  }
 },
 "nbformat": 4,
 "nbformat_minor": 5
}
